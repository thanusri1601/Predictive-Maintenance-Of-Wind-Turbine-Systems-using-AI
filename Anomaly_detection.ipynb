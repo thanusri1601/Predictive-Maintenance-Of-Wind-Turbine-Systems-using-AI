{
  "nbformat": 4,
  "nbformat_minor": 0,
  "metadata": {
    "colab": {
      "provenance": []
    },
    "kernelspec": {
      "name": "python3",
      "display_name": "Python 3"
    },
    "language_info": {
      "name": "python"
    }
  },
  "cells": [
    {
      "cell_type": "code",
      "source": [
        "import pandas as pd\n",
        "import numpy as np\n",
        "import matplotlib.pyplot as plt\n",
        "from scipy.stats import zscore\n",
        "from sklearn.preprocessing import RobustScaler, LabelEncoder, MinMaxScaler\n",
        "from sklearn.ensemble import IsolationForest, RandomForestClassifier\n",
        "from sklearn.model_selection import train_test_split\n",
        "from sklearn.metrics import accuracy_score, classification_report, confusion_matrix\n",
        "from sklearn.feature_selection import SelectFromModel\n",
        "from sklearn.svm import OneClassSVM\n",
        "from sklearn.neighbors import LocalOutlierFactor\n",
        "from sklearn.decomposition import PCA\n",
        "from sklearn.tree import DecisionTreeClassifier"
      ],
      "metadata": {
        "id": "qim_iHPNVrgc"
      },
      "execution_count": null,
      "outputs": []
    },
    {
      "cell_type": "code",
      "execution_count": null,
      "metadata": {
        "id": "1Voh4eYiS5P2",
        "colab": {
          "base_uri": "https://localhost:8080/"
        },
        "outputId": "a8d3b0aa-12da-4095-ca69-1db9abcfd664"
      },
      "outputs": [
        {
          "output_type": "stream",
          "name": "stdout",
          "text": [
            "File loaded successfully!\n"
          ]
        }
      ],
      "source": [
        "file_path='/content/drive/MyDrive/combined_wind_farm_A_data_new.csv'\n",
        "data=pd.read_csv(file_path, delimiter=',', encoding='utf-8', on_bad_lines='skip')\n",
        "print(\"File loaded successfully!\")"
      ]
    },
    {
      "cell_type": "code",
      "execution_count": null,
      "metadata": {
        "colab": {
          "base_uri": "https://localhost:8080/"
        },
        "id": "rwJSh7quDkPn",
        "outputId": "c3680740-cea1-4e02-d765-7ec27344bcf3"
      },
      "outputs": [
        {
          "output_type": "stream",
          "name": "stdout",
          "text": [
            "status_type_id\n",
            "0    898672\n",
            "1    298075\n",
            "Name: count, dtype: int64\n"
          ]
        }
      ],
      "source": [
        "# Replace 0 and 2 with 0, and others with 1\n",
        "data['status_type_id'] = data['status_type_id'].replace({0: 0, 1: 0, 2: 0, 3: 1, 4: 1, 5: 1})\n",
        "\n",
        "print(data['status_type_id'].value_counts())"
      ]
    },
    {
      "cell_type": "code",
      "execution_count": null,
      "metadata": {
        "id": "YzcFFrpFG-Rs"
      },
      "outputs": [],
      "source": [
        "#Renaming the columns\n",
        "rename_mapping = {\n",
        "    'time_stamp': 'time_stamp',\n",
        "    'asset_id': 'asset_id',\n",
        "    'id': 'id',\n",
        "    'train_test': 'train_test',\n",
        "    'status_type_id': 'status_type_id',\n",
        "    'sensor_0_avg': 'Ambient temperature avg',\n",
        "    'sensor_1_avg': 'Wind absolute direction avg',\n",
        "    'sensor_2_avg': 'Wind relative direction avg',\n",
        "    'wind_speed_3_avg': 'Windspeed avg',\n",
        "    'wind_speed_4_avg': 'Estimated windspeed avg',\n",
        "    'wind_speed_3_max': 'Windspeed max',\n",
        "    'wind_speed_3_min': 'Windspeed min',\n",
        "    'wind_speed_3_std': 'Windspeed std',\n",
        "    'sensor_5_avg': 'Pitch angle avg',\n",
        "    'sensor_5_max': 'Pitch angle max',\n",
        "    'sensor_5_min': 'Pitch angle min',\n",
        "    'sensor_5_std': 'Pitch angle std',\n",
        "    'sensor_6_avg': 'Hub controller temperature avg',\n",
        "    'sensor_7_avg': 'Top nacelle controller temperature avg',\n",
        "    'sensor_8_avg': 'Choke coils on the VCS- section temperature avg',\n",
        "    'sensor_9_avg': 'VCP-board temperature avg',\n",
        "    'sensor_10_avg': 'VCS cooling water temperature avg',\n",
        "    'sensor_11_avg': 'Gearbox bearing on high speed shaft  temperature avg',\n",
        "    'sensor_12_avg': 'Gearbox oil temperature avg',\n",
        "    'sensor_13_avg': 'Generator bearing 2(Drive end)  temperature avg',\n",
        "    'sensor_14_avg': 'Generator bearing 1(Non-drive end) temperature avg',\n",
        "    'sensor_15_avg': 'Generator stator winding phase 1 temperature avg',\n",
        "    'sensor_16_avg': 'Generator stator winding phase 2 temperature avg',\n",
        "    'sensor_17_avg': 'Generator stator winding phase 3 temperature avg',\n",
        "    'sensor_18_avg': 'Generator rpm avg',\n",
        "    'sensor_18_max': 'Generator rpm max',\n",
        "    'sensor_18_min': 'Generator rpm min',\n",
        "    'sensor_18_std': 'Generator rpm std',\n",
        "    'sensor_19_avg': 'Split ring chamber temperature avg',\n",
        "    'sensor_20_avg': 'Busbar section temperature avg',\n",
        "    'sensor_21_avg': 'IGBT-driver on grid side inverter temperature avg',\n",
        "    'sensor_22_avg': 'Actual Phase displacement avg',\n",
        "    'sensor_23_avg': 'Averaged current phase 1',\n",
        "    'sensor_24_avg': 'Averaged current phase 2',\n",
        "    'sensor_25_avg': 'Averaged current phase 3',\n",
        "    'sensor_26_avg': 'Grid frequency',\n",
        "    'reactive_power_27_avg': 'Possible Grid capacitive reactive power avg',\n",
        "    'reactive_power_27_max': 'Possible Grid capacitive reactive power max',\n",
        "    'reactive_power_27_min': 'Possible Grid capacitive reactive power min',\n",
        "    'reactive_power_27_std': 'Possible Grid capacitive reactive power std',\n",
        "    'reactive_power_28_avg': 'Possible Grid inductive reactive power avg',\n",
        "    'reactive_power_28_max': 'Possible Grid inductive reactive power max',\n",
        "    'reactive_power_28_min': 'Possible Grid inductive reactive power min',\n",
        "    'reactive_power_28_std': 'Possible Grid inductive reactive power std',\n",
        "    'power_29_avg': 'Possible Grid active power avg',\n",
        "    'power_29_max': 'Possible Grid active power max',\n",
        "    'power_29_min': 'Possible Grid active power min',\n",
        "    'power_29_std': 'Possible Grid active power std',\n",
        "    'power_30_avg': 'Grid power avg',\n",
        "    'power_30_max': 'Grid power max',\n",
        "    'power_30_min': 'Grid power min',\n",
        "    'power_30_std': 'Grid power std',\n",
        "    'sensor_31_avg': 'Grid reactive power avg',\n",
        "    'sensor_31_max': 'Grid reactive power max',\n",
        "    'sensor_31_min': 'Grid reactive power min',\n",
        "    'sensor_31_std': 'Grid reactive power std',\n",
        "    'sensor_32_avg': 'Averaged voltage phase 1',\n",
        "    'sensor_33_avg': 'Averaged voltage phase 2',\n",
        "    'sensor_34_avg': 'Averaged voltage phase 3',\n",
        "    'sensor_35_avg': 'IGBT-driver on rotor side inverter phase 1 temperature avg',\n",
        "    'sensor_36_avg': 'IGBT-driver on rotor side inverter phase 2 temperature avg',\n",
        "    'sensor_37_avg': 'IGBT-driver on rotor side inverter phase 3 temperature avg',\n",
        "    'sensor_38_avg': 'HV transformer phase L1 temperature avg',\n",
        "    'sensor_39_avg': 'HV transformer phase L2 temperature avg',\n",
        "    'sensor_40_avg': 'HV transformer phase L3 temperature avg',\n",
        "    'sensor_41_avg': 'Hydraulic group oil temperature avg',\n",
        "    'sensor_42_avg': 'Nacelle direction avg',\n",
        "    'sensor_43_avg': 'Nacelle temperature avg',\n",
        "    'sensor_44': 'Generator disconnected active power avg',\n",
        "    'sensor_45': 'Generator connected in delta active power avg',\n",
        "    'sensor_46': 'Generator connected in star active power avg',\n",
        "    'sensor_47': 'Generator disconnected reactive power avg',\n",
        "    'sensor_48': 'Generator connected in delta reactive power avg',\n",
        "    'sensor_49': 'Generator connected in star reactive power avg',\n",
        "    'sensor_50': 'Total active power avg',\n",
        "    'sensor_51': 'Total reactive power avg',\n",
        "    'sensor_52_avg': 'Rotor rpm avg',\n",
        "    'sensor_52_max': 'Rotor rpm max',\n",
        "    'sensor_52_min': 'Rotor rpm min',\n",
        "    'sensor_52_std': 'Rotor rpm std',\n",
        "    'sensor_53_avg': 'Nose cone temperature avg',\n",
        "}\n",
        "\n",
        "# Rename the columns in the DataFrame\n",
        "data.rename(columns=rename_mapping, inplace=True)\n",
        "# Convert time to python date time format\n",
        "data['time_stamp']=pd.to_datetime(data['time_stamp'])\n",
        "#Converting object dtypes to strings\n",
        "data=data.astype({col: 'string' for col in data.select_dtypes(include='object').columns})"
      ]
    },
    {
      "cell_type": "code",
      "execution_count": null,
      "metadata": {
        "colab": {
          "base_uri": "https://localhost:8080/"
        },
        "id": "lmS3DSInJ7Hu",
        "outputId": "ea2cb4ab-bd64-494c-a067-1bd7b55208d2"
      },
      "outputs": [
        {
          "output_type": "stream",
          "name": "stdout",
          "text": [
            "Missing values: \n",
            " Series([], dtype: int64)\n"
          ]
        }
      ],
      "source": [
        "#Handling missing values\n",
        "data=data.dropna()\n",
        "missing_data=data.isnull().sum()\n",
        "print(\"Missing values: \\n\", missing_data[missing_data>0])"
      ]
    },
    {
      "cell_type": "code",
      "execution_count": null,
      "metadata": {
        "id": "rhOeuP8hypEB"
      },
      "outputs": [],
      "source": [
        "# Remove columns that contain 'min', 'max', or 'std'\n",
        "filtered_columns = [col for col in data.columns if not any(keyword in col for keyword in ['min', 'max', 'std'])]\n",
        "data_avg = data[filtered_columns]\n",
        "data_avg=data_avg.drop(columns=['event_id', 'id', 'event_label', 'event_description', 'train_test'])"
      ]
    },
    {
      "cell_type": "code",
      "execution_count": null,
      "metadata": {
        "id": "PzwrJlks1YfJ"
      },
      "outputs": [],
      "source": [
        "# Create a list of unique selected features\n",
        "unique_selected_features = ['time_stamp', 'status_type_id','asset_id', 'Averaged current phase 1', 'VCP-board temperature avg', 'Possible Grid inductive reactive power avg', 'Generator stator winding phase 1 temperature avg', 'Busbar section temperature avg', 'Generator bearing 2(Drive end)  temperature avg', 'Wind relative direction avg', 'VCS cooling water temperature avg', 'Possible Grid active power avg', 'Windspeed avg', 'Averaged current phase 2', 'Split ring chamber temperature avg', 'Estimated windspeed avg', 'IGBT-driver on grid side inverter temperature avg', 'Averaged current phase 3', 'Generator stator winding phase 3 temperature avg', 'Generator bearing 1(Non-drive end) temperature avg', 'Gearbox bearing on high speed shaft  temperature avg', 'Actual Phase displacement avg', 'Gearbox oil temperature avg', 'Pitch angle avg', 'Possible Grid capacitive reactive power avg', 'Generator stator winding phase 2 temperature avg', 'Ambient temperature avg', 'Choke coils on the VCS- section temperature avg', 'Generator rpm avg']\n",
        "\n",
        "# Create a new dataset with only the unique selected features\n",
        "unique_data_avg = data[unique_selected_features]\n"
      ]
    },
    {
      "cell_type": "code",
      "source": [
        "unique_data_avg=unique_data_avg.drop(columns=['status_type_id', 'asset_id'])"
      ],
      "metadata": {
        "id": "DtoXulNmwCMb"
      },
      "execution_count": null,
      "outputs": []
    },
    {
      "cell_type": "code",
      "source": [
        "# Create a copy of unique_data_avg\n",
        "dataset = unique_data_avg.copy()"
      ],
      "metadata": {
        "id": "5AARdOytIHek"
      },
      "execution_count": null,
      "outputs": []
    },
    {
      "cell_type": "code",
      "source": [
        "print(dataset.shape)\n",
        "print(unique_data_avg.shape)"
      ],
      "metadata": {
        "colab": {
          "base_uri": "https://localhost:8080/"
        },
        "id": "9ikiksZV8dna",
        "outputId": "1b1659e6-1f7f-4f63-ad5b-e6c839b04a33"
      },
      "execution_count": null,
      "outputs": [
        {
          "output_type": "stream",
          "name": "stdout",
          "text": [
            "(1196727, 27)\n",
            "(1196727, 27)\n"
          ]
        }
      ]
    },
    {
      "cell_type": "code",
      "source": [
        "unique_data_avg.columns"
      ],
      "metadata": {
        "colab": {
          "base_uri": "https://localhost:8080/"
        },
        "id": "TSANta6Jrzgg",
        "outputId": "158d9a1b-378f-4cd1-c3ef-ddd0758ece94"
      },
      "execution_count": null,
      "outputs": [
        {
          "output_type": "execute_result",
          "data": {
            "text/plain": [
              "Index(['time_stamp', 'Averaged current phase 1', 'VCP-board temperature avg',\n",
              "       'Possible Grid inductive reactive power avg',\n",
              "       'Generator stator winding phase 1 temperature avg',\n",
              "       'Busbar section temperature avg',\n",
              "       'Generator bearing 2(Drive end)  temperature avg',\n",
              "       'Wind relative direction avg', 'VCS cooling water temperature avg',\n",
              "       'Possible Grid active power avg', 'Windspeed avg',\n",
              "       'Averaged current phase 2', 'Split ring chamber temperature avg',\n",
              "       'Estimated windspeed avg',\n",
              "       'IGBT-driver on grid side inverter temperature avg',\n",
              "       'Averaged current phase 3',\n",
              "       'Generator stator winding phase 3 temperature avg',\n",
              "       'Generator bearing 1(Non-drive end) temperature avg',\n",
              "       'Gearbox bearing on high speed shaft  temperature avg',\n",
              "       'Actual Phase displacement avg', 'Gearbox oil temperature avg',\n",
              "       'Pitch angle avg', 'Possible Grid capacitive reactive power avg',\n",
              "       'Generator stator winding phase 2 temperature avg',\n",
              "       'Ambient temperature avg',\n",
              "       'Choke coils on the VCS- section temperature avg', 'Generator rpm avg'],\n",
              "      dtype='object')"
            ]
          },
          "metadata": {},
          "execution_count": 11
        }
      ]
    },
    {
      "cell_type": "markdown",
      "source": [
        "**SELECTING ONLY NUMERIC COLUMNS AND STANDARDIZING THEM**"
      ],
      "metadata": {
        "id": "GeHhjbw2E1ns"
      }
    },
    {
      "cell_type": "code",
      "source": [
        "# Select only the numerical columns for scaling\n",
        "numerical_cols = unique_data_avg.select_dtypes(include='number').columns\n",
        "\n",
        "# Initialize the RobustScaler\n",
        "scaler = RobustScaler()\n",
        "\n",
        "# Fit and transform the numerical data using .loc to avoid SettingWithCopyWarning\n",
        "unique_data_avg.loc[:, numerical_cols] = scaler.fit_transform(unique_data_avg[numerical_cols])"
      ],
      "metadata": {
        "id": "m_HS4wnXe28Q"
      },
      "execution_count": null,
      "outputs": []
    },
    {
      "cell_type": "code",
      "source": [
        "print(dataset.shape)\n",
        "print(unique_data_avg.shape)"
      ],
      "metadata": {
        "colab": {
          "base_uri": "https://localhost:8080/"
        },
        "id": "GCOjulfl8ixa",
        "outputId": "f69e1767-fba4-4b8e-bce9-6e4fe23d4ff8"
      },
      "execution_count": null,
      "outputs": [
        {
          "output_type": "stream",
          "name": "stdout",
          "text": [
            "(1196727, 27)\n",
            "(1196727, 27)\n"
          ]
        }
      ]
    },
    {
      "cell_type": "markdown",
      "source": [
        "**z SCORE ANOMALY DETECTION**"
      ],
      "metadata": {
        "id": "PY8tMVC2FReO"
      }
    },
    {
      "cell_type": "code",
      "source": [
        "# Calculate Z-score for numerical columns\n",
        "z_scores = unique_data_avg[numerical_cols].apply(zscore)\n",
        "\n",
        "# Flag rows where any Z-score value exceeds the threshold (e.g., 5)\n",
        "z_threshold = 5\n",
        "dataset.loc[:, 'z_score_anomaly'] = (z_scores.abs() > z_threshold).any(axis=1)\n",
        "\n",
        "# Count the number of anomalies\n",
        "num_anomalies = dataset['z_score_anomaly'].sum()\n",
        "print(f\"Number of anomalies detected: {num_anomalies}\")"
      ],
      "metadata": {
        "colab": {
          "base_uri": "https://localhost:8080/"
        },
        "id": "LH0bGoZAgl5d",
        "outputId": "89d95b8f-686d-4c73-9ca1-de2ac254f530"
      },
      "execution_count": null,
      "outputs": [
        {
          "output_type": "stream",
          "name": "stdout",
          "text": [
            "Number of anomalies detected: 10990\n"
          ]
        }
      ]
    },
    {
      "cell_type": "code",
      "source": [
        "print(dataset.shape)\n",
        "print(unique_data_avg.shape)"
      ],
      "metadata": {
        "colab": {
          "base_uri": "https://localhost:8080/"
        },
        "id": "MsDuVPFW8LeM",
        "outputId": "67b54d1d-3111-47b2-d4fb-0c2f65e884aa"
      },
      "execution_count": null,
      "outputs": [
        {
          "output_type": "stream",
          "name": "stdout",
          "text": [
            "(1196727, 28)\n",
            "(1196727, 27)\n"
          ]
        }
      ]
    },
    {
      "cell_type": "markdown",
      "source": [
        "**ISOLATION FOREST ANOMALY DETECTION**"
      ],
      "metadata": {
        "id": "kMZBXxF2FXvl"
      }
    },
    {
      "cell_type": "code",
      "source": [
        "# Initialize Isolation Forest\n",
        "iso_forest = IsolationForest(contamination=0.01, random_state=42)\n",
        "\n",
        "# Fit and predict anomalies, creating a new DataFrame to avoid SettingWithCopyWarning\n",
        "if_anomalies = iso_forest.fit_predict(unique_data_avg[numerical_cols])\n",
        "\n",
        "# Convert the predictions to a boolean array (True for anomalies)\n",
        "if_anomalies_bool = if_anomalies == -1\n",
        "\n",
        "# Assign the results to the DataFrame using .loc\n",
        "dataset.loc[:, 'if_anomaly'] = if_anomalies_bool.astype(bool)\n",
        "\n",
        "# Count the number of ML-based anomalies\n",
        "num_if_anomalies = dataset['if_anomaly'].sum()\n",
        "print(f\"Number of anomalies detected using Isolation Forest: {num_if_anomalies}\")"
      ],
      "metadata": {
        "colab": {
          "base_uri": "https://localhost:8080/"
        },
        "id": "JcKGQK6m2ipv",
        "outputId": "a6cecd74-cde9-4889-d88e-bd3f03e78903"
      },
      "execution_count": null,
      "outputs": [
        {
          "output_type": "stream",
          "name": "stdout",
          "text": [
            "Number of anomalies detected using Isolation Forest: 11966\n"
          ]
        }
      ]
    },
    {
      "cell_type": "code",
      "source": [
        "print(dataset.shape)\n",
        "print(unique_data_avg.shape)"
      ],
      "metadata": {
        "colab": {
          "base_uri": "https://localhost:8080/"
        },
        "id": "6zoorNSo9REC",
        "outputId": "9fef85fe-ce2c-49b8-fa18-3c410a7cd004"
      },
      "execution_count": null,
      "outputs": [
        {
          "output_type": "stream",
          "name": "stdout",
          "text": [
            "(1196727, 29)\n",
            "(1196727, 27)\n"
          ]
        }
      ]
    },
    {
      "cell_type": "markdown",
      "source": [
        "**TIME SERIES ANOMALY DETECTION**"
      ],
      "metadata": {
        "id": "nsaA-7FnFdZG"
      }
    },
    {
      "cell_type": "code",
      "source": [
        "import pandas as pd\n",
        "\n",
        "# Assuming unique_data_avg is your DataFrame and 'time_stamp' is your time index\n",
        "unique_data_avg['time_stamp'] = pd.to_datetime(unique_data_avg['time_stamp'])\n",
        "unique_data_avg.set_index('time_stamp', inplace=True)\n",
        "\n",
        "# Ensure the index is unique\n",
        "if not unique_data_avg.index.is_unique:\n",
        "    unique_data_avg = unique_data_avg[~unique_data_avg.index.duplicated(keep='first')]\n",
        "\n",
        "# Define the features to analyze (select all numerical columns)\n",
        "features = unique_data_avg.select_dtypes(include='number').columns.tolist()\n",
        "\n",
        "# Set the rolling window size (e.g., for 1 hour with 10-minute intervals)\n",
        "window_size = 6  # Adjust as needed\n",
        "threshold = 1.9  # Threshold for anomaly detection\n",
        "\n",
        "# Create a new DataFrame to store anomalies for each feature\n",
        "anomalies = pd.DataFrame(index=unique_data_avg.index)\n",
        "\n",
        "# Create a dictionary to store the number of anomalies detected for each feature\n",
        "anomaly_counts = {}\n",
        "\n",
        "# Loop through each feature to calculate rolling averages and detect anomalies\n",
        "for feature in features:\n",
        "    # Calculate rolling average and standard deviation\n",
        "    rolling_avg = unique_data_avg[feature].rolling(window=window_size).mean()\n",
        "    rolling_std = unique_data_avg[feature].rolling(window=window_size).std()\n",
        "\n",
        "    # Make a copy of the rolling results before assigning to avoid index issues\n",
        "    dataset[f'{feature}_rolling_avg'] = rolling_avg.copy()\n",
        "    dataset[f'{feature}_rolling_std'] = rolling_std.copy()\n",
        "\n",
        "    # Flag anomalies\n",
        "    anomalies[feature] = (\n",
        "        (unique_data_avg[feature] > rolling_avg + threshold * rolling_std) |\n",
        "        (unique_data_avg[feature] < rolling_avg - threshold * rolling_std)\n",
        "    )\n",
        "\n",
        "    # Count the number of anomalies detected for this feature\n",
        "    num_anomalies = anomalies[feature].sum()\n",
        "    anomaly_counts[feature] = num_anomalies  # Store in the dictionary\n",
        "\n",
        "    # Add anomalies column to dataset\n",
        "    dataset[f'anomaly_{feature}'] = anomalies[feature]\n",
        "\n",
        "    # # Plotting the anomalies for the current feature\n",
        "    # plt.figure(figsize=(16, 6))  # Adjust the figure size as needed\n",
        "    # plt.plot(unique_data_avg.index, unique_data_avg[feature], label=feature, color='blue', alpha=0.6)\n",
        "    # plt.plot(unique_data_avg.index, dataset[f'{feature}_rolling_avg'], label='Rolling Mean', color='orange', linestyle='--')\n",
        "    # plt.fill_between(unique_data_avg.index,\n",
        "    #                  dataset[f'{feature}_rolling_avg'] - threshold * dataset[f'{feature}_rolling_std'],\n",
        "    #                  dataset[f'{feature}_rolling_avg'] + threshold * dataset[f'{feature}_rolling_std'],\n",
        "    #                  color='lightgray', alpha=0.5, label='Threshold Range')\n",
        "    # plt.scatter(unique_data_avg.index[unique_data_avg[f'{feature}_rolling_std'].notna() & anomalies[feature]],\n",
        "    #             unique_data_avg[feature][anomalies[feature]],\n",
        "    #             color='red', label='Anomalies', s=10)\n",
        "    # plt.title(f'{feature} with Anomalies Highlighted')\n",
        "    # plt.xlabel('Time')\n",
        "    # plt.ylabel(feature)\n",
        "    # plt.legend()\n",
        "    # plt.tight_layout()\n",
        "\n",
        "    # # Show the plot for the current feature\n",
        "    # plt.show()\n",
        "\n",
        "# Print the updated dataset shape\n",
        "print(\"Updated dataset shape:\", dataset.shape)\n",
        "\n",
        "# Print the number of anomalies detected for each feature at the end\n",
        "print(\"Number of anomalies detected for each feature:\")\n",
        "for feature, count in anomaly_counts.items():\n",
        "    print(f\"{feature}: {count}\")\n"
      ],
      "metadata": {
        "colab": {
          "base_uri": "https://localhost:8080/"
        },
        "id": "l-jDY629q8RB",
        "outputId": "2d862f91-9363-44d9-d6e7-79452e32b094"
      },
      "execution_count": null,
      "outputs": [
        {
          "output_type": "stream",
          "name": "stdout",
          "text": [
            "Updated dataset shape: (1196727, 107)\n",
            "Number of anomalies detected for each feature:\n",
            "Averaged current phase 1: 18925\n",
            "VCP-board temperature avg: 26959\n",
            "Possible Grid inductive reactive power avg: 25530\n",
            "Generator stator winding phase 1 temperature avg: 16272\n",
            "Busbar section temperature avg: 24759\n",
            "Generator bearing 2(Drive end)  temperature avg: 22801\n",
            "Wind relative direction avg: 5877\n",
            "VCS cooling water temperature avg: 20870\n",
            "Possible Grid active power avg: 16624\n",
            "Windspeed avg: 5805\n",
            "Averaged current phase 2: 18436\n",
            "Split ring chamber temperature avg: 25649\n",
            "Estimated windspeed avg: 5973\n",
            "IGBT-driver on grid side inverter temperature avg: 19903\n",
            "Averaged current phase 3: 18622\n",
            "Generator stator winding phase 3 temperature avg: 16512\n",
            "Generator bearing 1(Non-drive end) temperature avg: 20766\n",
            "Gearbox bearing on high speed shaft  temperature avg: 17974\n",
            "Actual Phase displacement avg: 16911\n",
            "Gearbox oil temperature avg: 24280\n",
            "Pitch angle avg: 18750\n",
            "Possible Grid capacitive reactive power avg: 24805\n",
            "Generator stator winding phase 2 temperature avg: 16340\n",
            "Ambient temperature avg: 27233\n",
            "Choke coils on the VCS- section temperature avg: 16447\n",
            "Generator rpm avg: 22467\n"
          ]
        }
      ]
    },
    {
      "cell_type": "code",
      "source": [
        "# import pandas as pd\n",
        "\n",
        "# # Ensure time_stamp is datetime and set as index\n",
        "# unique_data_avg['time_stamp'] = pd.to_datetime(unique_data_avg['time_stamp'])\n",
        "# unique_data_avg.set_index('time_stamp', inplace=True)\n",
        "\n",
        "# Reset the index if there are duplicates\n",
        "if not unique_data_avg.index.is_unique:\n",
        "    unique_data_avg = unique_data_avg.reset_index(drop=False)  # Keeps original index\n",
        "\n",
        "# Define the features to analyze (select all numerical columns)\n",
        "features = unique_data_avg.select_dtypes(include='number').columns.tolist()\n",
        "\n",
        "# Set the rolling window size (e.g., for 1 hour with 10-minute intervals)\n",
        "window_size = 6  # Adjust as needed\n",
        "threshold = 1.9  # Threshold for anomaly detection\n",
        "\n",
        "# Create a new DataFrame to store anomalies for each feature\n",
        "anomalies = pd.DataFrame(index=unique_data_avg.index)\n",
        "\n",
        "# Create a dictionary to store the number of anomalies detected for each feature\n",
        "anomaly_counts = {}\n",
        "\n",
        "# Loop through each feature to calculate rolling averages and detect anomalies\n",
        "for feature in features:\n",
        "    # Calculate rolling average and standard deviation\n",
        "    rolling_avg = unique_data_avg[feature].rolling(window=window_size, min_periods=1).mean()\n",
        "    rolling_std = unique_data_avg[feature].rolling(window=window_size, min_periods=1).std()\n",
        "\n",
        "    # Fill NaN values in rolling calculations to prevent dropping rows\n",
        "    rolling_avg = rolling_avg.ffill().bfill()\n",
        "    rolling_std = rolling_std.ffill().bfill()\n",
        "\n",
        "    # Flag anomalies\n",
        "    anomalies[feature] = (\n",
        "        (unique_data_avg[feature] > rolling_avg + threshold * rolling_std) |\n",
        "        (unique_data_avg[feature] < rolling_avg - threshold * rolling_std)\n",
        "    )\n",
        "\n",
        "    # Count the number of anomalies detected for this feature\n",
        "    num_anomalies = anomalies[feature].sum()\n",
        "    anomaly_counts[feature] = num_anomalies  # Store in the dictionary\n",
        "\n",
        "# Convert anomalies DataFrame to integer (0 or 1) to prevent NaNs\n",
        "anomalies = anomalies.fillna(0).astype(int)\n",
        "\n",
        "# Add anomalies columns to dataset without dropping any rows\n",
        "for feature in features:\n",
        "    dataset[f'anomaly_{feature}'] = anomalies[feature].values  # Use .values to avoid index alignment issues\n",
        "\n",
        "# Print the updated dataset shape\n",
        "print(\"Updated dataset shape:\", dataset.shape)\n",
        "\n",
        "# Print the number of anomalies detected for each feature at the end\n",
        "print(\"Number of anomalies detected for each feature:\")\n",
        "for feature, count in anomaly_counts.items():\n",
        "    print(f\"{feature}: {count}\")"
      ],
      "metadata": {
        "colab": {
          "base_uri": "https://localhost:8080/"
        },
        "id": "MbzQpoRHCojK",
        "outputId": "f6e94dce-5880-421d-be30-497f1a272a79"
      },
      "execution_count": null,
      "outputs": [
        {
          "output_type": "stream",
          "name": "stdout",
          "text": [
            "Updated dataset shape: (1196727, 55)\n",
            "Number of anomalies detected for each feature:\n",
            "Averaged current phase 1: 55618\n",
            "VCP-board temperature avg: 80716\n",
            "Possible Grid inductive reactive power avg: 77169\n",
            "Generator stator winding phase 1 temperature avg: 48795\n",
            "Busbar section temperature avg: 73059\n",
            "Generator bearing 2(Drive end)  temperature avg: 68167\n",
            "Wind relative direction avg: 17799\n",
            "VCS cooling water temperature avg: 60822\n",
            "Possible Grid active power avg: 48874\n",
            "Windspeed avg: 17463\n",
            "Averaged current phase 2: 54361\n",
            "Split ring chamber temperature avg: 76036\n",
            "Estimated windspeed avg: 17815\n",
            "IGBT-driver on grid side inverter temperature avg: 57859\n",
            "Averaged current phase 3: 54948\n",
            "Generator stator winding phase 3 temperature avg: 49564\n",
            "Generator bearing 1(Non-drive end) temperature avg: 61313\n",
            "Gearbox bearing on high speed shaft  temperature avg: 54454\n",
            "Actual Phase displacement avg: 50834\n",
            "Gearbox oil temperature avg: 73418\n",
            "Pitch angle avg: 55485\n",
            "Possible Grid capacitive reactive power avg: 74667\n",
            "Generator stator winding phase 2 temperature avg: 48871\n",
            "Ambient temperature avg: 81071\n",
            "Choke coils on the VCS- section temperature avg: 49297\n",
            "Generator rpm avg: 66775\n"
          ]
        }
      ]
    },
    {
      "cell_type": "code",
      "source": [
        "print(dataset.shape)\n",
        "print(unique_data_avg.shape)"
      ],
      "metadata": {
        "colab": {
          "base_uri": "https://localhost:8080/"
        },
        "id": "Ood22T8mBGgK",
        "outputId": "6d8e3abb-62bd-4876-f2ad-45721f6df4e2"
      },
      "execution_count": null,
      "outputs": [
        {
          "output_type": "stream",
          "name": "stdout",
          "text": [
            "(1196727, 55)\n",
            "(1196727, 27)\n"
          ]
        }
      ]
    },
    {
      "cell_type": "code",
      "source": [
        "# List the anomaly columns\n",
        "anomaly_methods = ['z_score_anomaly', 'if_anomaly']\n",
        "time_series_anomalies = [col for col in dataset.columns if col.startswith('anomaly_')]\n",
        "\n",
        "# Combine all anomaly columns into one list\n",
        "all_anomaly_columns = anomaly_methods + time_series_anomalies\n",
        "\n",
        "# Calculate the sum of NaN values for each anomaly column\n",
        "nan_counts = dataset[all_anomaly_columns].isna().sum()\n",
        "\n",
        "# Print the sum of NaN values for each anomaly column\n",
        "print(\"Sum of NaN values for each anomaly column:\")\n",
        "print(nan_counts[nan_counts > 0])  # Only print columns with NaNs\n"
      ],
      "metadata": {
        "colab": {
          "base_uri": "https://localhost:8080/"
        },
        "id": "u84xHJzcBiyr",
        "outputId": "f69f2f36-e749-40b3-d5c7-0dc78279bfdd"
      },
      "execution_count": null,
      "outputs": [
        {
          "output_type": "stream",
          "name": "stdout",
          "text": [
            "Sum of NaN values for each anomaly column:\n",
            "Series([], dtype: int64)\n"
          ]
        }
      ]
    },
    {
      "cell_type": "code",
      "source": [
        "import pandas as pd\n",
        "\n",
        "# Sample features with anomalies\n",
        "anomaly_methods = ['z_score_anomaly', 'if_anomaly']\n",
        "time_series_anomalies = [col for col in dataset.columns if col.startswith('anomaly_')]\n",
        "\n",
        "# Ensure all anomaly columns are binary (0/1)\n",
        "dataset[anomaly_methods] = dataset[anomaly_methods].apply(lambda x: x.astype(int))\n",
        "for col in time_series_anomalies:\n",
        "    dataset[col] = dataset[col].astype(int)\n",
        "\n",
        "# Create a dictionary to hold the new columns\n",
        "new_columns = {}\n",
        "\n",
        "for feature in time_series_anomalies:\n",
        "    feature_name = feature.replace('anomaly_', '')\n",
        "\n",
        "    # Create the anomaly comparison column and add it to the dictionary\n",
        "    new_columns[f'{feature_name}_anomaly_comparison'] = (\n",
        "        dataset[feature] + dataset['z_score_anomaly'] + dataset['if_anomaly']\n",
        "    )\n",
        "\n",
        "# Add all new columns to dataset in one operation\n",
        "dataset = pd.concat([dataset, pd.DataFrame(new_columns)], axis=1)\n",
        "\n",
        "# Print the outputs for the new anomaly comparison columns\n",
        "for col in new_columns.keys():\n",
        "    print(f\"\\nColumn: {col}\")\n",
        "    print(dataset[col].value_counts())"
      ],
      "metadata": {
        "colab": {
          "base_uri": "https://localhost:8080/"
        },
        "id": "DwGMlS-75Ey7",
        "outputId": "d44f0ce2-65a1-45c4-c85a-9e94861ee98e"
      },
      "execution_count": null,
      "outputs": [
        {
          "output_type": "stream",
          "name": "stdout",
          "text": [
            "\n",
            "Column: Averaged current phase 1_anomaly_comparison\n",
            "Averaged current phase 1_anomaly_comparison\n",
            "0    1122187\n",
            "1      70563\n",
            "2       3920\n",
            "3         57\n",
            "Name: count, dtype: int64\n",
            "\n",
            "Column: VCP-board temperature avg_anomaly_comparison\n",
            "VCP-board temperature avg_anomaly_comparison\n",
            "0    1096602\n",
            "1      96679\n",
            "2       3345\n",
            "3        101\n",
            "Name: count, dtype: int64\n",
            "\n",
            "Column: Possible Grid inductive reactive power avg_anomaly_comparison\n",
            "Possible Grid inductive reactive power avg_anomaly_comparison\n",
            "0    1099768\n",
            "1      93800\n",
            "2       3152\n",
            "3          7\n",
            "Name: count, dtype: int64\n",
            "\n",
            "Column: Generator stator winding phase 1 temperature avg_anomaly_comparison\n",
            "Generator stator winding phase 1 temperature avg_anomaly_comparison\n",
            "0    1128453\n",
            "1      64840\n",
            "2       3391\n",
            "3         43\n",
            "Name: count, dtype: int64\n",
            "\n",
            "Column: Busbar section temperature avg_anomaly_comparison\n",
            "Busbar section temperature avg_anomaly_comparison\n",
            "0    1104419\n",
            "1      88703\n",
            "2       3503\n",
            "3        102\n",
            "Name: count, dtype: int64\n",
            "\n",
            "Column: Generator bearing 2(Drive end)  temperature avg_anomaly_comparison\n",
            "Generator bearing 2(Drive end)  temperature avg_anomaly_comparison\n",
            "0    1109040\n",
            "1      84305\n",
            "2       3328\n",
            "3         54\n",
            "Name: count, dtype: int64\n",
            "\n",
            "Column: Wind relative direction avg_anomaly_comparison\n",
            "Wind relative direction avg_anomaly_comparison\n",
            "0    1159350\n",
            "1      34067\n",
            "2       3242\n",
            "3         68\n",
            "Name: count, dtype: int64\n",
            "\n",
            "Column: VCS cooling water temperature avg_anomaly_comparison\n",
            "VCS cooling water temperature avg_anomaly_comparison\n",
            "0    1116813\n",
            "1      76138\n",
            "2       3688\n",
            "3         88\n",
            "Name: count, dtype: int64\n",
            "\n",
            "Column: Possible Grid active power avg_anomaly_comparison\n",
            "Possible Grid active power avg_anomaly_comparison\n",
            "0    1128650\n",
            "1      64419\n",
            "2       3563\n",
            "3         95\n",
            "Name: count, dtype: int64\n",
            "\n",
            "Column: Windspeed avg_anomaly_comparison\n",
            "Windspeed avg_anomaly_comparison\n",
            "0    1158827\n",
            "1      35420\n",
            "2       2441\n",
            "3         39\n",
            "Name: count, dtype: int64\n",
            "\n",
            "Column: Averaged current phase 2_anomaly_comparison\n",
            "Averaged current phase 2_anomaly_comparison\n",
            "0    1123466\n",
            "1      69342\n",
            "2       3782\n",
            "3        137\n",
            "Name: count, dtype: int64\n",
            "\n",
            "Column: Split ring chamber temperature avg_anomaly_comparison\n",
            "Split ring chamber temperature avg_anomaly_comparison\n",
            "0    1101359\n",
            "1      91960\n",
            "2       3192\n",
            "3        216\n",
            "Name: count, dtype: int64\n",
            "\n",
            "Column: Estimated windspeed avg_anomaly_comparison\n",
            "Estimated windspeed avg_anomaly_comparison\n",
            "0    1158514\n",
            "1      35694\n",
            "2       2480\n",
            "3         39\n",
            "Name: count, dtype: int64\n",
            "\n",
            "Column: IGBT-driver on grid side inverter temperature avg_anomaly_comparison\n",
            "IGBT-driver on grid side inverter temperature avg_anomaly_comparison\n",
            "0    1119447\n",
            "1      73788\n",
            "2       3449\n",
            "3         43\n",
            "Name: count, dtype: int64\n",
            "\n",
            "Column: Averaged current phase 3_anomaly_comparison\n",
            "Averaged current phase 3_anomaly_comparison\n",
            "0    1122953\n",
            "1      69764\n",
            "2       3890\n",
            "3        120\n",
            "Name: count, dtype: int64\n",
            "\n",
            "Column: Generator stator winding phase 3 temperature avg_anomaly_comparison\n",
            "Generator stator winding phase 3 temperature avg_anomaly_comparison\n",
            "0    1127735\n",
            "1      65521\n",
            "2       3414\n",
            "3         57\n",
            "Name: count, dtype: int64\n",
            "\n",
            "Column: Generator bearing 1(Non-drive end) temperature avg_anomaly_comparison\n",
            "Generator bearing 1(Non-drive end) temperature avg_anomaly_comparison\n",
            "0    1115653\n",
            "1      77897\n",
            "2       3159\n",
            "3         18\n",
            "Name: count, dtype: int64\n",
            "\n",
            "Column: Gearbox bearing on high speed shaft  temperature avg_anomaly_comparison\n",
            "Gearbox bearing on high speed shaft  temperature avg_anomaly_comparison\n",
            "0    1122840\n",
            "1      70426\n",
            "2       3399\n",
            "3         62\n",
            "Name: count, dtype: int64\n",
            "\n",
            "Column: Actual Phase displacement avg_anomaly_comparison\n",
            "Actual Phase displacement avg_anomaly_comparison\n",
            "0    1126456\n",
            "1      66902\n",
            "2       3219\n",
            "3        150\n",
            "Name: count, dtype: int64\n",
            "\n",
            "Column: Gearbox oil temperature avg_anomaly_comparison\n",
            "Gearbox oil temperature avg_anomaly_comparison\n",
            "0    1104132\n",
            "1      88912\n",
            "2       3587\n",
            "3         96\n",
            "Name: count, dtype: int64\n",
            "\n",
            "Column: Pitch angle avg_anomaly_comparison\n",
            "Pitch angle avg_anomaly_comparison\n",
            "0    1121484\n",
            "1      72072\n",
            "2       3144\n",
            "3         27\n",
            "Name: count, dtype: int64\n",
            "\n",
            "Column: Possible Grid capacitive reactive power avg_anomaly_comparison\n",
            "Possible Grid capacitive reactive power avg_anomaly_comparison\n",
            "0    1102256\n",
            "1      91326\n",
            "2       3138\n",
            "3          7\n",
            "Name: count, dtype: int64\n",
            "\n",
            "Column: Generator stator winding phase 2 temperature avg_anomaly_comparison\n",
            "Generator stator winding phase 2 temperature avg_anomaly_comparison\n",
            "0    1128355\n",
            "1      64974\n",
            "2       3341\n",
            "3         57\n",
            "Name: count, dtype: int64\n",
            "\n",
            "Column: Ambient temperature avg_anomaly_comparison\n",
            "Ambient temperature avg_anomaly_comparison\n",
            "0    1096353\n",
            "1      96846\n",
            "2       3403\n",
            "3        125\n",
            "Name: count, dtype: int64\n",
            "\n",
            "Column: Choke coils on the VCS- section temperature avg_anomaly_comparison\n",
            "Choke coils on the VCS- section temperature avg_anomaly_comparison\n",
            "0    1127948\n",
            "1      65356\n",
            "2       3372\n",
            "3         51\n",
            "Name: count, dtype: int64\n",
            "\n",
            "Column: Generator rpm avg_anomaly_comparison\n",
            "Generator rpm avg_anomaly_comparison\n",
            "0    1110907\n",
            "1      81942\n",
            "2       3845\n",
            "3         33\n",
            "Name: count, dtype: int64\n"
          ]
        }
      ]
    },
    {
      "cell_type": "code",
      "source": [
        "dataset.columns"
      ],
      "metadata": {
        "colab": {
          "base_uri": "https://localhost:8080/"
        },
        "id": "oHsK05eT6vcl",
        "outputId": "56ed6737-e4a0-4474-8827-bf944b737a4c"
      },
      "execution_count": null,
      "outputs": [
        {
          "output_type": "execute_result",
          "data": {
            "text/plain": [
              "Index(['time_stamp', 'Averaged current phase 1', 'VCP-board temperature avg',\n",
              "       'Possible Grid inductive reactive power avg',\n",
              "       'Generator stator winding phase 1 temperature avg',\n",
              "       'Busbar section temperature avg',\n",
              "       'Generator bearing 2(Drive end)  temperature avg',\n",
              "       'Wind relative direction avg', 'VCS cooling water temperature avg',\n",
              "       'Possible Grid active power avg', 'Windspeed avg',\n",
              "       'Averaged current phase 2', 'Split ring chamber temperature avg',\n",
              "       'Estimated windspeed avg',\n",
              "       'IGBT-driver on grid side inverter temperature avg',\n",
              "       'Averaged current phase 3',\n",
              "       'Generator stator winding phase 3 temperature avg',\n",
              "       'Generator bearing 1(Non-drive end) temperature avg',\n",
              "       'Gearbox bearing on high speed shaft  temperature avg',\n",
              "       'Actual Phase displacement avg', 'Gearbox oil temperature avg',\n",
              "       'Pitch angle avg', 'Possible Grid capacitive reactive power avg',\n",
              "       'Generator stator winding phase 2 temperature avg',\n",
              "       'Ambient temperature avg',\n",
              "       'Choke coils on the VCS- section temperature avg', 'Generator rpm avg',\n",
              "       'z_score_anomaly', 'if_anomaly', 'anomaly_Averaged current phase 1',\n",
              "       'anomaly_VCP-board temperature avg',\n",
              "       'anomaly_Possible Grid inductive reactive power avg',\n",
              "       'anomaly_Generator stator winding phase 1 temperature avg',\n",
              "       'anomaly_Busbar section temperature avg',\n",
              "       'anomaly_Generator bearing 2(Drive end)  temperature avg',\n",
              "       'anomaly_Wind relative direction avg',\n",
              "       'anomaly_VCS cooling water temperature avg',\n",
              "       'anomaly_Possible Grid active power avg', 'anomaly_Windspeed avg',\n",
              "       'anomaly_Averaged current phase 2',\n",
              "       'anomaly_Split ring chamber temperature avg',\n",
              "       'anomaly_Estimated windspeed avg',\n",
              "       'anomaly_IGBT-driver on grid side inverter temperature avg',\n",
              "       'anomaly_Averaged current phase 3',\n",
              "       'anomaly_Generator stator winding phase 3 temperature avg',\n",
              "       'anomaly_Generator bearing 1(Non-drive end) temperature avg',\n",
              "       'anomaly_Gearbox bearing on high speed shaft  temperature avg',\n",
              "       'anomaly_Actual Phase displacement avg',\n",
              "       'anomaly_Gearbox oil temperature avg', 'anomaly_Pitch angle avg',\n",
              "       'anomaly_Possible Grid capacitive reactive power avg',\n",
              "       'anomaly_Generator stator winding phase 2 temperature avg',\n",
              "       'anomaly_Ambient temperature avg',\n",
              "       'anomaly_Choke coils on the VCS- section temperature avg',\n",
              "       'anomaly_Generator rpm avg',\n",
              "       'Averaged current phase 1_anomaly_comparison',\n",
              "       'VCP-board temperature avg_anomaly_comparison',\n",
              "       'Possible Grid inductive reactive power avg_anomaly_comparison',\n",
              "       'Generator stator winding phase 1 temperature avg_anomaly_comparison',\n",
              "       'Busbar section temperature avg_anomaly_comparison',\n",
              "       'Generator bearing 2(Drive end)  temperature avg_anomaly_comparison',\n",
              "       'Wind relative direction avg_anomaly_comparison',\n",
              "       'VCS cooling water temperature avg_anomaly_comparison',\n",
              "       'Possible Grid active power avg_anomaly_comparison',\n",
              "       'Windspeed avg_anomaly_comparison',\n",
              "       'Averaged current phase 2_anomaly_comparison',\n",
              "       'Split ring chamber temperature avg_anomaly_comparison',\n",
              "       'Estimated windspeed avg_anomaly_comparison',\n",
              "       'IGBT-driver on grid side inverter temperature avg_anomaly_comparison',\n",
              "       'Averaged current phase 3_anomaly_comparison',\n",
              "       'Generator stator winding phase 3 temperature avg_anomaly_comparison',\n",
              "       'Generator bearing 1(Non-drive end) temperature avg_anomaly_comparison',\n",
              "       'Gearbox bearing on high speed shaft  temperature avg_anomaly_comparison',\n",
              "       'Actual Phase displacement avg_anomaly_comparison',\n",
              "       'Gearbox oil temperature avg_anomaly_comparison',\n",
              "       'Pitch angle avg_anomaly_comparison',\n",
              "       'Possible Grid capacitive reactive power avg_anomaly_comparison',\n",
              "       'Generator stator winding phase 2 temperature avg_anomaly_comparison',\n",
              "       'Ambient temperature avg_anomaly_comparison',\n",
              "       'Choke coils on the VCS- section temperature avg_anomaly_comparison',\n",
              "       'Generator rpm avg_anomaly_comparison'],\n",
              "      dtype='object')"
            ]
          },
          "metadata": {},
          "execution_count": 235
        }
      ]
    },
    {
      "cell_type": "code",
      "source": [
        "dataset.shape"
      ],
      "metadata": {
        "colab": {
          "base_uri": "https://localhost:8080/"
        },
        "id": "d21qePkC7W1p",
        "outputId": "b09cf1f9-f103-4040-e81d-af5e1a182ba9"
      },
      "execution_count": null,
      "outputs": [
        {
          "output_type": "execute_result",
          "data": {
            "text/plain": [
              "(1196727, 81)"
            ]
          },
          "metadata": {},
          "execution_count": 236
        }
      ]
    },
    {
      "cell_type": "code",
      "source": [
        "unique_data_avg.shape"
      ],
      "metadata": {
        "colab": {
          "base_uri": "https://localhost:8080/"
        },
        "id": "3nYDw1w97Z9s",
        "outputId": "ecb165ff-bf7e-48c5-b739-c03206a1ba9c"
      },
      "execution_count": null,
      "outputs": [
        {
          "output_type": "execute_result",
          "data": {
            "text/plain": [
              "(1196727, 27)"
            ]
          },
          "metadata": {},
          "execution_count": 237
        }
      ]
    }
  ]
}